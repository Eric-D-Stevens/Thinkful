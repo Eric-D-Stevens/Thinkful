{
 "cells": [
  {
   "cell_type": "code",
   "execution_count": 1,
   "metadata": {},
   "outputs": [],
   "source": [
    "# import Pandas for file work\n",
    "import pandas as pd"
   ]
  },
  {
   "cell_type": "code",
   "execution_count": 2,
   "metadata": {},
   "outputs": [
    {
     "name": "stdout",
     "output_type": "stream",
     "text": [
      "  Unnamed: 0 country  ad_views  items_purchased\n",
      "0     George      US        16                2\n",
      "1       John     CAN        42                1\n",
      "2     Thomas     CAN        32                0\n",
      "3      James      US        13                8\n",
      "4     Andrew     CAN        63                0\n",
      "5     Martin      US        19                5\n",
      "6    William      US        65                7\n",
      "7    Zachary      US        23                3\n",
      "8    Millard     CAN        16                0\n",
      "9   Franklin      US        77                5\n"
     ]
    }
   ],
   "source": [
    "# import 'purchases.csv' into a pandas dataframe and print it\n",
    "df = pd.read_csv('files/purchases.csv')\n",
    "print(df)"
   ]
  },
  {
   "cell_type": "code",
   "execution_count": 3,
   "metadata": {},
   "outputs": [
    {
     "name": "stdout",
     "output_type": "stream",
     "text": [
      "  Unnamed: 0 country  ad_views  items_purchased\n",
      "0     George      US        16                2\n",
      "1       John     CAN        42                1\n",
      "2     Thomas     CAN        32                0\n",
      "3      James      US        13                8\n",
      "4     Andrew     CAN        63                0\n",
      "5     Martin      US        19                5\n",
      "6    William      US        65                7\n",
      "7    Zachary      US        23                3\n",
      "8    Millard     CAN        16                0\n",
      "9   Franklin      US        77                5\n"
     ]
    }
   ],
   "source": [
    "# output a copy of this csv to a new file name\n",
    "df.to_csv('files/copy_purchased.csv',index=False) # write w/o index col\n",
    "\n",
    "# print out the written file\n",
    "print(pd.read_csv('files/copy_purchased.csv'))\n"
   ]
  },
  {
   "cell_type": "code",
   "execution_count": 4,
   "metadata": {},
   "outputs": [
    {
     "name": "stdout",
     "output_type": "stream",
     "text": [
      "  Unnamed: 0  ad_views country  items_purchased\n",
      "0     George        16      US                2\n",
      "1       John        42     CAN                1\n",
      "2     Thomas        32     CAN                0\n",
      "3      James        13      US                8\n",
      "4     Andrew        63     CAN                0\n",
      "5     Martin        19      US                5\n",
      "6    William        65      US                7\n",
      "7    Zachary        23      US                3\n",
      "8    Millard        16     CAN                0\n",
      "9   Franklin        77      US                5\n"
     ]
    }
   ],
   "source": [
    "# now we will open the json version of the purchased file\n",
    "df_json = pd.read_json('files/purchases.json')\n",
    "print(df_json)"
   ]
  },
  {
   "cell_type": "code",
   "execution_count": 5,
   "metadata": {},
   "outputs": [
    {
     "name": "stdout",
     "output_type": "stream",
     "text": [
      "  Unnamed: 0  ad_views country  items_purchased\n",
      "0     George        16      US                2\n",
      "1       John        42     CAN                1\n",
      "2     Thomas        32     CAN                0\n",
      "3      James        13      US                8\n",
      "4     Andrew        63     CAN                0\n",
      "5     Martin        19      US                5\n",
      "6    William        65      US                7\n",
      "7    Zachary        23      US                3\n",
      "8    Millard        16     CAN                0\n",
      "9   Franklin        77      US                5\n"
     ]
    }
   ],
   "source": [
    "# again we will write and print the written json file\n",
    "df_json.to_json(\"files/copy_purchased.json\")\n",
    "\n",
    "# print the written file\n",
    "print(pd.read_json('files/copy_purchased.json'))\n",
    "\n",
    "# due to the 'semi-structured' natured of json: no index issue"
   ]
  },
  {
   "cell_type": "code",
   "execution_count": 6,
   "metadata": {},
   "outputs": [
    {
     "name": "stdout",
     "output_type": "stream",
     "text": [
      "{\"Unnamed: 0\":{\"0\":\"George\",\"1\":\"John\",\"2\":\"Thomas\",\"3\":\"James\",\"4\":\"Andrew\",\"5\":\"Martin\",\"6\":\"William\",\"7\":\"Zachary\",\"8\":\"Millard\",\"9\":\"Franklin\"},\"ad_views\":{\"0\":16,\"1\":42,\"2\":32,\"3\":13,\"4\":63,\"5\":19,\"6\":65,\"7\":23,\"8\":16,\"9\":77},\"country\":{\"0\":\"US\",\"1\":\"CAN\",\"2\":\"CAN\",\"3\":\"US\",\"4\":\"CAN\",\"5\":\"US\",\"6\":\"US\",\"7\":\"US\",\"8\":\"CAN\",\"9\":\"US\"},\"items_purchased\":{\"0\":2,\"1\":1,\"2\":0,\"3\":8,\"4\":0,\"5\":5,\"6\":7,\"7\":3,\"8\":0,\"9\":5}}\n"
     ]
    }
   ],
   "source": [
    "#The more common use case is to send JSON data over the web. \n",
    "#For that we'd call to_json() without a path argument to \n",
    "#create a JSON string that we'd later process and send:\n",
    "\n",
    "output_to_web = df_json.to_json()\n",
    "print(output_to_web)"
   ]
  },
  {
   "cell_type": "code",
   "execution_count": 7,
   "metadata": {},
   "outputs": [
    {
     "name": "stdout",
     "output_type": "stream",
     "text": [
      "          0    1   2  3\n",
      "0    George   US  16  2\n",
      "1      John  CAN  42  1\n",
      "2    Thomas  CAN  32  0\n",
      "3     James   US  13  8\n",
      "4    Andrew  CAN  63  0\n",
      "5    Martin   US  19  5\n",
      "6   William   US  65  7\n",
      "7   Zachary   US  23  3\n",
      "8   Millard  CAN  16  0\n",
      "9  Franklin   US  77  5\n"
     ]
    }
   ],
   "source": [
    "import xml.etree.ElementTree as ET\n",
    "\n",
    "\n",
    "# Load and parse the XML file into a tree.\n",
    "tree = ET.parse('files/purchases.xml')\n",
    "\n",
    "# Find the root of the tree. This is the node of the tree where we'll\n",
    "# start our iteration.\n",
    "root = tree.getroot()\n",
    "\n",
    "# Define a custom function to loop over our tree, extract values, and\n",
    "# return a two-dimensional list.\n",
    "def xml_to_list(root):\n",
    "    result = []\n",
    "    for row in root:\n",
    "        row_list = []\n",
    "        for column in row:\n",
    "            row_list.append(column.text)\n",
    "        result.append(row_list)\n",
    "    return result\n",
    "    \n",
    "# Feed our two-dimensional list into Pandas.\n",
    "df = pd.DataFrame(xml_to_list(root))\n",
    "print(df)"
   ]
  },
  {
   "cell_type": "code",
   "execution_count": 8,
   "metadata": {},
   "outputs": [
    {
     "name": "stdout",
     "output_type": "stream",
     "text": [
      "This file is 19 lines long \n",
      "\n",
      "\n",
      "Beautiful is better than ugly.\n",
      "\n",
      "Explicit is better than implicit.\n",
      "\n",
      "Simple is better than complex.\n",
      "\n",
      "Complex is better than complicated.\n",
      "\n",
      "Flat is better than nested.\n",
      "\n",
      "Sparse is better than dense.\n",
      "\n",
      "Readability counts.\n",
      "\n",
      "Special cases aren't special enough to break the rules.\n",
      "\n",
      "Although practicality beats purity.\n",
      "\n",
      "Errors should never pass silently.\n",
      "\n",
      "Unless explicitly silenced.\n",
      "\n",
      "In the face of ambiguity, refuse the temptation to guess.\n",
      "\n",
      "There should be one-- and preferably only one --obvious way to do it.\n",
      "\n",
      "Although that way may not be obvious at first unless you're Dutch.\n",
      "\n",
      "Now is better than never.\n",
      "\n",
      "Although never is often better than *right* now.\n",
      "\n",
      "If the implementation is hard to explain, it's a bad idea.\n",
      "\n",
      "If the implementation is easy to explain, it may be a good idea.\n",
      "\n",
      "Namespaces are one honking great idea -- let's do more of those!\n",
      "\n",
      "\n",
      "\n",
      "\n",
      "\n",
      "\n",
      ",country,ad_views,items_purchased\n",
      "\n",
      "George,US,16,2\n",
      "\n",
      "John,CAN,42,1\n",
      "\n",
      "Thomas,CAN,32,0\n",
      "\n",
      "James,US,13,8\n",
      "\n",
      "Andrew,CAN,63,0\n",
      "\n",
      "Martin,US,19,5\n",
      "\n",
      "William,US,65,7\n",
      "\n",
      "Zachary,US,23,3\n",
      "\n",
      "Millard,CAN,16,0\n",
      "\n",
      "Franklin,US,77,5\n"
     ]
    }
   ],
   "source": [
    "# Let's open the poem.txt file, create a file object, and print out the\n",
    "# file text line by line.\n",
    "# Note the poem.txt tab above.\n",
    "with open('files/poem.txt') as poem_file:\n",
    "    text = poem_file.readlines()\n",
    "    print(\"This file is {} lines long \\n\\n\".format(len(text)))\n",
    "    for line in text:\n",
    "        print(line)\n",
    "\n",
    "print('\\n\\n\\n\\n\\n')\n",
    "# Try loading and printing the purchases.csv file line by line just\n",
    "# just like we did for poem.txt.\n",
    "with open('files/purchases.csv') as purchase_csv_file:\n",
    "    text = purchase_csv_file.readlines()\n",
    "    for x in text:\n",
    "        print(x)"
   ]
  },
  {
   "cell_type": "code",
   "execution_count": 9,
   "metadata": {},
   "outputs": [],
   "source": [
    "# Using the python 'with' method for opening files allows to forget about closing"
   ]
  }
 ],
 "metadata": {
  "kernelspec": {
   "display_name": "Python 3",
   "language": "python",
   "name": "python3"
  },
  "language_info": {
   "codemirror_mode": {
    "name": "ipython",
    "version": 3
   },
   "file_extension": ".py",
   "mimetype": "text/x-python",
   "name": "python",
   "nbconvert_exporter": "python",
   "pygments_lexer": "ipython3",
   "version": "3.6.5"
  }
 },
 "nbformat": 4,
 "nbformat_minor": 2
}
